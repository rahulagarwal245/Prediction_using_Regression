{
  "nbformat": 4,
  "nbformat_minor": 0,
  "metadata": {
    "colab": {
      "provenance": []
    },
    "kernelspec": {
      "name": "python3",
      "display_name": "Python 3"
    },
    "language_info": {
      "name": "python"
    }
  },
  "cells": [
    {
      "cell_type": "code",
      "execution_count": null,
      "metadata": {
        "id": "rOPL3QIZzLum"
      },
      "outputs": [],
      "source": [
        "import pandas as pd"
      ]
    },
    {
      "cell_type": "code",
      "source": [
        "data=pd.read_csv('/content/SalaryPrediction.csv')"
      ],
      "metadata": {
        "id": "itEXIzbnzrRp"
      },
      "execution_count": null,
      "outputs": []
    },
    {
      "cell_type": "code",
      "source": [
        "data.describe()"
      ],
      "metadata": {
        "colab": {
          "base_uri": "https://localhost:8080/",
          "height": 300
        },
        "id": "N0XdKUIyzyNB",
        "outputId": "5d70a5d5-edd6-4235-bc36-445227e8d805"
      },
      "execution_count": null,
      "outputs": [
        {
          "output_type": "execute_result",
          "data": {
            "text/plain": [
              "       Experience Years         Salary\n",
              "count         40.000000      40.000000\n",
              "mean           5.152500   74743.625000\n",
              "std            2.663715   25947.122885\n",
              "min            1.100000   37731.000000\n",
              "25%            3.200000   56878.250000\n",
              "50%            4.600000   64472.500000\n",
              "75%            6.875000   95023.250000\n",
              "max           10.500000  122391.000000"
            ],
            "text/html": [
              "\n",
              "  <div id=\"df-3c36bb73-5e62-41f6-b28e-36c8ea7a3f8f\" class=\"colab-df-container\">\n",
              "    <div>\n",
              "<style scoped>\n",
              "    .dataframe tbody tr th:only-of-type {\n",
              "        vertical-align: middle;\n",
              "    }\n",
              "\n",
              "    .dataframe tbody tr th {\n",
              "        vertical-align: top;\n",
              "    }\n",
              "\n",
              "    .dataframe thead th {\n",
              "        text-align: right;\n",
              "    }\n",
              "</style>\n",
              "<table border=\"1\" class=\"dataframe\">\n",
              "  <thead>\n",
              "    <tr style=\"text-align: right;\">\n",
              "      <th></th>\n",
              "      <th>Experience Years</th>\n",
              "      <th>Salary</th>\n",
              "    </tr>\n",
              "  </thead>\n",
              "  <tbody>\n",
              "    <tr>\n",
              "      <th>count</th>\n",
              "      <td>40.000000</td>\n",
              "      <td>40.000000</td>\n",
              "    </tr>\n",
              "    <tr>\n",
              "      <th>mean</th>\n",
              "      <td>5.152500</td>\n",
              "      <td>74743.625000</td>\n",
              "    </tr>\n",
              "    <tr>\n",
              "      <th>std</th>\n",
              "      <td>2.663715</td>\n",
              "      <td>25947.122885</td>\n",
              "    </tr>\n",
              "    <tr>\n",
              "      <th>min</th>\n",
              "      <td>1.100000</td>\n",
              "      <td>37731.000000</td>\n",
              "    </tr>\n",
              "    <tr>\n",
              "      <th>25%</th>\n",
              "      <td>3.200000</td>\n",
              "      <td>56878.250000</td>\n",
              "    </tr>\n",
              "    <tr>\n",
              "      <th>50%</th>\n",
              "      <td>4.600000</td>\n",
              "      <td>64472.500000</td>\n",
              "    </tr>\n",
              "    <tr>\n",
              "      <th>75%</th>\n",
              "      <td>6.875000</td>\n",
              "      <td>95023.250000</td>\n",
              "    </tr>\n",
              "    <tr>\n",
              "      <th>max</th>\n",
              "      <td>10.500000</td>\n",
              "      <td>122391.000000</td>\n",
              "    </tr>\n",
              "  </tbody>\n",
              "</table>\n",
              "</div>\n",
              "    <div class=\"colab-df-buttons\">\n",
              "\n",
              "  <div class=\"colab-df-container\">\n",
              "    <button class=\"colab-df-convert\" onclick=\"convertToInteractive('df-3c36bb73-5e62-41f6-b28e-36c8ea7a3f8f')\"\n",
              "            title=\"Convert this dataframe to an interactive table.\"\n",
              "            style=\"display:none;\">\n",
              "\n",
              "  <svg xmlns=\"http://www.w3.org/2000/svg\" height=\"24px\" viewBox=\"0 -960 960 960\">\n",
              "    <path d=\"M120-120v-720h720v720H120Zm60-500h600v-160H180v160Zm220 220h160v-160H400v160Zm0 220h160v-160H400v160ZM180-400h160v-160H180v160Zm440 0h160v-160H620v160ZM180-180h160v-160H180v160Zm440 0h160v-160H620v160Z\"/>\n",
              "  </svg>\n",
              "    </button>\n",
              "\n",
              "  <style>\n",
              "    .colab-df-container {\n",
              "      display:flex;\n",
              "      gap: 12px;\n",
              "    }\n",
              "\n",
              "    .colab-df-convert {\n",
              "      background-color: #E8F0FE;\n",
              "      border: none;\n",
              "      border-radius: 50%;\n",
              "      cursor: pointer;\n",
              "      display: none;\n",
              "      fill: #1967D2;\n",
              "      height: 32px;\n",
              "      padding: 0 0 0 0;\n",
              "      width: 32px;\n",
              "    }\n",
              "\n",
              "    .colab-df-convert:hover {\n",
              "      background-color: #E2EBFA;\n",
              "      box-shadow: 0px 1px 2px rgba(60, 64, 67, 0.3), 0px 1px 3px 1px rgba(60, 64, 67, 0.15);\n",
              "      fill: #174EA6;\n",
              "    }\n",
              "\n",
              "    .colab-df-buttons div {\n",
              "      margin-bottom: 4px;\n",
              "    }\n",
              "\n",
              "    [theme=dark] .colab-df-convert {\n",
              "      background-color: #3B4455;\n",
              "      fill: #D2E3FC;\n",
              "    }\n",
              "\n",
              "    [theme=dark] .colab-df-convert:hover {\n",
              "      background-color: #434B5C;\n",
              "      box-shadow: 0px 1px 3px 1px rgba(0, 0, 0, 0.15);\n",
              "      filter: drop-shadow(0px 1px 2px rgba(0, 0, 0, 0.3));\n",
              "      fill: #FFFFFF;\n",
              "    }\n",
              "  </style>\n",
              "\n",
              "    <script>\n",
              "      const buttonEl =\n",
              "        document.querySelector('#df-3c36bb73-5e62-41f6-b28e-36c8ea7a3f8f button.colab-df-convert');\n",
              "      buttonEl.style.display =\n",
              "        google.colab.kernel.accessAllowed ? 'block' : 'none';\n",
              "\n",
              "      async function convertToInteractive(key) {\n",
              "        const element = document.querySelector('#df-3c36bb73-5e62-41f6-b28e-36c8ea7a3f8f');\n",
              "        const dataTable =\n",
              "          await google.colab.kernel.invokeFunction('convertToInteractive',\n",
              "                                                    [key], {});\n",
              "        if (!dataTable) return;\n",
              "\n",
              "        const docLinkHtml = 'Like what you see? Visit the ' +\n",
              "          '<a target=\"_blank\" href=https://colab.research.google.com/notebooks/data_table.ipynb>data table notebook</a>'\n",
              "          + ' to learn more about interactive tables.';\n",
              "        element.innerHTML = '';\n",
              "        dataTable['output_type'] = 'display_data';\n",
              "        await google.colab.output.renderOutput(dataTable, element);\n",
              "        const docLink = document.createElement('div');\n",
              "        docLink.innerHTML = docLinkHtml;\n",
              "        element.appendChild(docLink);\n",
              "      }\n",
              "    </script>\n",
              "  </div>\n",
              "\n",
              "\n",
              "<div id=\"df-c224d5e1-50df-42da-b362-901bfbbaa3ef\">\n",
              "  <button class=\"colab-df-quickchart\" onclick=\"quickchart('df-c224d5e1-50df-42da-b362-901bfbbaa3ef')\"\n",
              "            title=\"Suggest charts\"\n",
              "            style=\"display:none;\">\n",
              "\n",
              "<svg xmlns=\"http://www.w3.org/2000/svg\" height=\"24px\"viewBox=\"0 0 24 24\"\n",
              "     width=\"24px\">\n",
              "    <g>\n",
              "        <path d=\"M19 3H5c-1.1 0-2 .9-2 2v14c0 1.1.9 2 2 2h14c1.1 0 2-.9 2-2V5c0-1.1-.9-2-2-2zM9 17H7v-7h2v7zm4 0h-2V7h2v10zm4 0h-2v-4h2v4z\"/>\n",
              "    </g>\n",
              "</svg>\n",
              "  </button>\n",
              "\n",
              "<style>\n",
              "  .colab-df-quickchart {\n",
              "      --bg-color: #E8F0FE;\n",
              "      --fill-color: #1967D2;\n",
              "      --hover-bg-color: #E2EBFA;\n",
              "      --hover-fill-color: #174EA6;\n",
              "      --disabled-fill-color: #AAA;\n",
              "      --disabled-bg-color: #DDD;\n",
              "  }\n",
              "\n",
              "  [theme=dark] .colab-df-quickchart {\n",
              "      --bg-color: #3B4455;\n",
              "      --fill-color: #D2E3FC;\n",
              "      --hover-bg-color: #434B5C;\n",
              "      --hover-fill-color: #FFFFFF;\n",
              "      --disabled-bg-color: #3B4455;\n",
              "      --disabled-fill-color: #666;\n",
              "  }\n",
              "\n",
              "  .colab-df-quickchart {\n",
              "    background-color: var(--bg-color);\n",
              "    border: none;\n",
              "    border-radius: 50%;\n",
              "    cursor: pointer;\n",
              "    display: none;\n",
              "    fill: var(--fill-color);\n",
              "    height: 32px;\n",
              "    padding: 0;\n",
              "    width: 32px;\n",
              "  }\n",
              "\n",
              "  .colab-df-quickchart:hover {\n",
              "    background-color: var(--hover-bg-color);\n",
              "    box-shadow: 0 1px 2px rgba(60, 64, 67, 0.3), 0 1px 3px 1px rgba(60, 64, 67, 0.15);\n",
              "    fill: var(--button-hover-fill-color);\n",
              "  }\n",
              "\n",
              "  .colab-df-quickchart-complete:disabled,\n",
              "  .colab-df-quickchart-complete:disabled:hover {\n",
              "    background-color: var(--disabled-bg-color);\n",
              "    fill: var(--disabled-fill-color);\n",
              "    box-shadow: none;\n",
              "  }\n",
              "\n",
              "  .colab-df-spinner {\n",
              "    border: 2px solid var(--fill-color);\n",
              "    border-color: transparent;\n",
              "    border-bottom-color: var(--fill-color);\n",
              "    animation:\n",
              "      spin 1s steps(1) infinite;\n",
              "  }\n",
              "\n",
              "  @keyframes spin {\n",
              "    0% {\n",
              "      border-color: transparent;\n",
              "      border-bottom-color: var(--fill-color);\n",
              "      border-left-color: var(--fill-color);\n",
              "    }\n",
              "    20% {\n",
              "      border-color: transparent;\n",
              "      border-left-color: var(--fill-color);\n",
              "      border-top-color: var(--fill-color);\n",
              "    }\n",
              "    30% {\n",
              "      border-color: transparent;\n",
              "      border-left-color: var(--fill-color);\n",
              "      border-top-color: var(--fill-color);\n",
              "      border-right-color: var(--fill-color);\n",
              "    }\n",
              "    40% {\n",
              "      border-color: transparent;\n",
              "      border-right-color: var(--fill-color);\n",
              "      border-top-color: var(--fill-color);\n",
              "    }\n",
              "    60% {\n",
              "      border-color: transparent;\n",
              "      border-right-color: var(--fill-color);\n",
              "    }\n",
              "    80% {\n",
              "      border-color: transparent;\n",
              "      border-right-color: var(--fill-color);\n",
              "      border-bottom-color: var(--fill-color);\n",
              "    }\n",
              "    90% {\n",
              "      border-color: transparent;\n",
              "      border-bottom-color: var(--fill-color);\n",
              "    }\n",
              "  }\n",
              "</style>\n",
              "\n",
              "  <script>\n",
              "    async function quickchart(key) {\n",
              "      const quickchartButtonEl =\n",
              "        document.querySelector('#' + key + ' button');\n",
              "      quickchartButtonEl.disabled = true;  // To prevent multiple clicks.\n",
              "      quickchartButtonEl.classList.add('colab-df-spinner');\n",
              "      try {\n",
              "        const charts = await google.colab.kernel.invokeFunction(\n",
              "            'suggestCharts', [key], {});\n",
              "      } catch (error) {\n",
              "        console.error('Error during call to suggestCharts:', error);\n",
              "      }\n",
              "      quickchartButtonEl.classList.remove('colab-df-spinner');\n",
              "      quickchartButtonEl.classList.add('colab-df-quickchart-complete');\n",
              "    }\n",
              "    (() => {\n",
              "      let quickchartButtonEl =\n",
              "        document.querySelector('#df-c224d5e1-50df-42da-b362-901bfbbaa3ef button');\n",
              "      quickchartButtonEl.style.display =\n",
              "        google.colab.kernel.accessAllowed ? 'block' : 'none';\n",
              "    })();\n",
              "  </script>\n",
              "</div>\n",
              "\n",
              "    </div>\n",
              "  </div>\n"
            ],
            "application/vnd.google.colaboratory.intrinsic+json": {
              "type": "dataframe",
              "summary": "{\n  \"name\": \"data\",\n  \"rows\": 8,\n  \"fields\": [\n    {\n      \"column\": \"Experience Years\",\n      \"properties\": {\n        \"dtype\": \"number\",\n        \"std\": 12.748001186927892,\n        \"min\": 1.1,\n        \"max\": 40.0,\n        \"num_unique_values\": 8,\n        \"samples\": [\n          5.1525,\n          4.6,\n          40.0\n        ],\n        \"semantic_type\": \"\",\n        \"description\": \"\"\n      }\n    },\n    {\n      \"column\": \"Salary\",\n      \"properties\": {\n        \"dtype\": \"number\",\n        \"std\": 38943.42969331308,\n        \"min\": 40.0,\n        \"max\": 122391.0,\n        \"num_unique_values\": 8,\n        \"samples\": [\n          74743.625,\n          64472.5,\n          40.0\n        ],\n        \"semantic_type\": \"\",\n        \"description\": \"\"\n      }\n    }\n  ]\n}"
            }
          },
          "metadata": {},
          "execution_count": 4
        }
      ]
    },
    {
      "cell_type": "code",
      "source": [
        "# prompt: cheeck missing values\n",
        "\n",
        "data.isnull().sum()\n"
      ],
      "metadata": {
        "colab": {
          "base_uri": "https://localhost:8080/",
          "height": 147
        },
        "id": "JdfAu2tA0AxW",
        "outputId": "fd10732a-5842-4a5e-cb97-ef8eaab2ae7f"
      },
      "execution_count": null,
      "outputs": [
        {
          "output_type": "execute_result",
          "data": {
            "text/plain": [
              "Experience Years    0\n",
              "Salary              0\n",
              "dtype: int64"
            ],
            "text/html": [
              "<div>\n",
              "<style scoped>\n",
              "    .dataframe tbody tr th:only-of-type {\n",
              "        vertical-align: middle;\n",
              "    }\n",
              "\n",
              "    .dataframe tbody tr th {\n",
              "        vertical-align: top;\n",
              "    }\n",
              "\n",
              "    .dataframe thead th {\n",
              "        text-align: right;\n",
              "    }\n",
              "</style>\n",
              "<table border=\"1\" class=\"dataframe\">\n",
              "  <thead>\n",
              "    <tr style=\"text-align: right;\">\n",
              "      <th></th>\n",
              "      <th>0</th>\n",
              "    </tr>\n",
              "  </thead>\n",
              "  <tbody>\n",
              "    <tr>\n",
              "      <th>Experience Years</th>\n",
              "      <td>0</td>\n",
              "    </tr>\n",
              "    <tr>\n",
              "      <th>Salary</th>\n",
              "      <td>0</td>\n",
              "    </tr>\n",
              "  </tbody>\n",
              "</table>\n",
              "</div><br><label><b>dtype:</b> int64</label>"
            ]
          },
          "metadata": {},
          "execution_count": 21
        }
      ]
    },
    {
      "cell_type": "markdown",
      "source": [
        "The code checks if there are any missing (empty) values in the dataset.\n",
        "data.isnull() finds all the empty values.\n",
        ".sum() counts how many missing values are in each column.\n",
        "The \"Experience Years\" column has 0 missing values.\n",
        "The \"Salary\" column also has 0 missing values.\n",
        "Since there are no missing values, the data is complete and ready to use—nothing needs to be fixed!"
      ],
      "metadata": {
        "id": "T56LZ_V9qJ18"
      }
    },
    {
      "cell_type": "code",
      "source": [
        "# prompt: check duplicate rows\n",
        "\n",
        "duplicate_rows = data[data.duplicated()]\n",
        "print(\"Duplicate Rows :\")\n",
        "print(duplicate_rows)\n",
        "print(\"Number of duplicate rows:\", data.duplicated().sum())\n"
      ],
      "metadata": {
        "colab": {
          "base_uri": "https://localhost:8080/"
        },
        "id": "PD4yNmBM0Fa_",
        "outputId": "eed477d2-b9cf-4e71-a3ea-bd9594025d95"
      },
      "execution_count": null,
      "outputs": [
        {
          "output_type": "stream",
          "name": "stdout",
          "text": [
            "Duplicate Rows :\n",
            "Empty DataFrame\n",
            "Columns: [Experience Years, Salary]\n",
            "Index: []\n",
            "Number of duplicate rows: 0\n"
          ]
        }
      ]
    },
    {
      "cell_type": "markdown",
      "source": [
        "Empty DataFrame\n",
        "\n",
        "This means there are no duplicate rows in the dataset.\n",
        "The columns \"Experience Years\" and \"Salary\" have only unique entries.\n",
        "Number of duplicate rows: 0\n",
        "\n",
        "Confirms that there are zero duplicate rows in the dataset.\n",
        "The dataset is clean, and you don’t need to remove or modify any duplicate records."
      ],
      "metadata": {
        "id": "_PFmhd_rqznp"
      }
    },
    {
      "cell_type": "code",
      "source": [
        "# prompt: generate box plot for all columns\n",
        "\n",
        "import matplotlib.pyplot as plt\n",
        "data.plot(kind='box', subplots=True, layout=(4,4), figsize=(15,15))\n",
        "plt.show()\n"
      ],
      "metadata": {
        "colab": {
          "base_uri": "https://localhost:8080/",
          "height": 311
        },
        "id": "dESNViSF0LDr",
        "outputId": "af54a0f6-9292-4927-cb7f-b6e4fcd0276d"
      },
      "execution_count": null,
      "outputs": [
        {
          "output_type": "display_data",
          "data": {
            "text/plain": [
              "<Figure size 1500x1500 with 16 Axes>"
            ],
            "image/png": "[encoded data removed]"
          },
          "metadata": {}
        }
      ]
    },
    {
      "cell_type": "markdown",
      "source": [
        "The left box plot represents Experience Years, while the right one is for Salary.\n",
        "Both distributions appear well-spread, meaning there is a good range of values in both columns.\n",
        "The median (green line inside the box) is near the center, indicating a balanced distribution.\n",
        "There are no extreme outliers visible, so the data seems fairly clean.\n",
        "This box plot helps us quickly understand the spread, median, and potential outliers in the dataset. The dataset looks well-distributed with a good range of values!"
      ],
      "metadata": {
        "id": "ChCsJv5arJgI"
      }
    },
    {
      "cell_type": "code",
      "source": [
        "# prompt: Generate Heatmap\n",
        "\n",
        "import pandas as pd\n",
        "import matplotlib.pyplot as plt\n",
        "import seaborn as sns\n",
        "\n",
        "# Assuming 'data' DataFrame is already loaded as in the previous code\n",
        "\n",
        "# Calculate the correlation matrix\n",
        "correlation_matrix = data.corr()\n",
        "\n",
        "# Create the heatmap\n",
        "plt.figure(figsize=(10, 8))\n",
        "sns.heatmap(correlation_matrix, annot=True, cmap='coolwarm', fmt=\".2f\")\n",
        "plt.title('Correlation Matrix Heatmap')\n",
        "plt.show()\n"
      ],
      "metadata": {
        "colab": {
          "base_uri": "https://localhost:8080/",
          "height": 699
        },
        "id": "2mNkF85L37HV",
        "outputId": "f21a3743-b06b-468c-b0b5-04d0ea441454"
      },
      "execution_count": null,
      "outputs": [
        {
          "output_type": "display_data",
          "data": {
            "text/plain": [
              "<Figure size 1000x800 with 2 Axes>"
            ],
            "image/png": "[encoded data removed]"
          },
          "metadata": {}
        }
      ]
    },
    {
      "cell_type": "markdown",
      "source": [
        "\"Experience Years\" and \"Salary\" have a correlation of 0.98, which is very close to 1.\n",
        "This means there is a very strong positive relationship between experience and salary—more experience generally leads to a higher salary.\n",
        "The diagonal values are all 1, which makes sense because a column is always 100% correlated with itself.\n",
        "The color scale (red = strong positive correlation, blue = weaker correlation) confirms this trend."
      ],
      "metadata": {
        "id": "e6xy4ut9rb7C"
      }
    },
    {
      "cell_type": "code",
      "source": [
        "# prompt: Set y data as Salary which is a depenant variable, and x as Experience Years  which is an independant variable using statsmodel\n",
        "\n",
        "import statsmodels.api as sm\n",
        "\n",
        "# Assuming 'data' DataFrame is already loaded and processed as in the previous code\n",
        "# Define the dependent and independent variables\n",
        "y = data['Salary']\n",
        "x = data['Experience Years']\n"
      ],
      "metadata": {
        "id": "pDpFenyG7T6Q"
      },
      "execution_count": null,
      "outputs": []
    },
    {
      "cell_type": "code",
      "source": [
        "y"
      ],
      "metadata": {
        "colab": {
          "base_uri": "https://localhost:8080/",
          "height": 1000
        },
        "id": "buiVUc5n7xOR",
        "outputId": "0634e851-9005-47db-e92a-e7284ef4a2cf"
      },
      "execution_count": null,
      "outputs": [
        {
          "output_type": "execute_result",
          "data": {
            "text/plain": [
              "0      39343\n",
              "1      42774\n",
              "2      46205\n",
              "3      37731\n",
              "4      43525\n",
              "5      39891\n",
              "6      48266\n",
              "7      56642\n",
              "8      60150\n",
              "9      54445\n",
              "10     64445\n",
              "11     60000\n",
              "12     57189\n",
              "13     60200\n",
              "14     63218\n",
              "15     55794\n",
              "16     56957\n",
              "17     57081\n",
              "18     59095\n",
              "19     61111\n",
              "20     64500\n",
              "21     67938\n",
              "22     66029\n",
              "23     83088\n",
              "24     82200\n",
              "25     81363\n",
              "26     93940\n",
              "27     91000\n",
              "28     90000\n",
              "29     91738\n",
              "30     98273\n",
              "31    101302\n",
              "32    113812\n",
              "33    111620\n",
              "34    109431\n",
              "35    105582\n",
              "36    116969\n",
              "37    112635\n",
              "38    122391\n",
              "39    121872\n",
              "Name: Salary, dtype: int64"
            ],
            "text/html": [
              "<div>\n",
              "<style scoped>\n",
              "    .dataframe tbody tr th:only-of-type {\n",
              "        vertical-align: middle;\n",
              "    }\n",
              "\n",
              "    .dataframe tbody tr th {\n",
              "        vertical-align: top;\n",
              "    }\n",
              "\n",
              "    .dataframe thead th {\n",
              "        text-align: right;\n",
              "    }\n",
              "</style>\n",
              "<table border=\"1\" class=\"dataframe\">\n",
              "  <thead>\n",
              "    <tr style=\"text-align: right;\">\n",
              "      <th></th>\n",
              "      <th>Salary</th>\n",
              "    </tr>\n",
              "  </thead>\n",
              "  <tbody>\n",
              "    <tr>\n",
              "      <th>0</th>\n",
              "      <td>39343</td>\n",
              "    </tr>\n",
              "    <tr>\n",
              "      <th>1</th>\n",
              "      <td>42774</td>\n",
              "    </tr>\n",
              "    <tr>\n",
              "      <th>2</th>\n",
              "      <td>46205</td>\n",
              "    </tr>\n",
              "    <tr>\n",
              "      <th>3</th>\n",
              "      <td>37731</td>\n",
              "    </tr>\n",
              "    <tr>\n",
              "      <th>4</th>\n",
              "      <td>43525</td>\n",
              "    </tr>\n",
              "    <tr>\n",
              "      <th>5</th>\n",
              "      <td>39891</td>\n",
              "    </tr>\n",
              "    <tr>\n",
              "      <th>6</th>\n",
              "      <td>48266</td>\n",
              "    </tr>\n",
              "    <tr>\n",
              "      <th>7</th>\n",
              "      <td>56642</td>\n",
              "    </tr>\n",
              "    <tr>\n",
              "      <th>8</th>\n",
              "      <td>60150</td>\n",
              "    </tr>\n",
              "    <tr>\n",
              "      <th>9</th>\n",
              "      <td>54445</td>\n",
              "    </tr>\n",
              "    <tr>\n",
              "      <th>10</th>\n",
              "      <td>64445</td>\n",
              "    </tr>\n",
              "    <tr>\n",
              "      <th>11</th>\n",
              "      <td>60000</td>\n",
              "    </tr>\n",
              "    <tr>\n",
              "      <th>12</th>\n",
              "      <td>57189</td>\n",
              "    </tr>\n",
              "    <tr>\n",
              "      <th>13</th>\n",
              "      <td>60200</td>\n",
              "    </tr>\n",
              "    <tr>\n",
              "      <th>14</th>\n",
              "      <td>63218</td>\n",
              "    </tr>\n",
              "    <tr>\n",
              "      <th>15</th>\n",
              "      <td>55794</td>\n",
              "    </tr>\n",
              "    <tr>\n",
              "      <th>16</th>\n",
              "      <td>56957</td>\n",
              "    </tr>\n",
              "    <tr>\n",
              "      <th>17</th>\n",
              "      <td>57081</td>\n",
              "    </tr>\n",
              "    <tr>\n",
              "      <th>18</th>\n",
              "      <td>59095</td>\n",
              "    </tr>\n",
              "    <tr>\n",
              "      <th>19</th>\n",
              "      <td>61111</td>\n",
              "    </tr>\n",
              "    <tr>\n",
              "      <th>20</th>\n",
              "      <td>64500</td>\n",
              "    </tr>\n",
              "    <tr>\n",
              "      <th>21</th>\n",
              "      <td>67938</td>\n",
              "    </tr>\n",
              "    <tr>\n",
              "      <th>22</th>\n",
              "      <td>66029</td>\n",
              "    </tr>\n",
              "    <tr>\n",
              "      <th>23</th>\n",
              "      <td>83088</td>\n",
              "    </tr>\n",
              "    <tr>\n",
              "      <th>24</th>\n",
              "      <td>82200</td>\n",
              "    </tr>\n",
              "    <tr>\n",
              "      <th>25</th>\n",
              "      <td>81363</td>\n",
              "    </tr>\n",
              "    <tr>\n",
              "      <th>26</th>\n",
              "      <td>93940</td>\n",
              "    </tr>\n",
              "    <tr>\n",
              "      <th>27</th>\n",
              "      <td>91000</td>\n",
              "    </tr>\n",
              "    <tr>\n",
              "      <th>28</th>\n",
              "      <td>90000</td>\n",
              "    </tr>\n",
              "    <tr>\n",
              "      <th>29</th>\n",
              "      <td>91738</td>\n",
              "    </tr>\n",
              "    <tr>\n",
              "      <th>30</th>\n",
              "      <td>98273</td>\n",
              "    </tr>\n",
              "    <tr>\n",
              "      <th>31</th>\n",
              "      <td>101302</td>\n",
              "    </tr>\n",
              "    <tr>\n",
              "      <th>32</th>\n",
              "      <td>113812</td>\n",
              "    </tr>\n",
              "    <tr>\n",
              "      <th>33</th>\n",
              "      <td>111620</td>\n",
              "    </tr>\n",
              "    <tr>\n",
              "      <th>34</th>\n",
              "      <td>109431</td>\n",
              "    </tr>\n",
              "    <tr>\n",
              "      <th>35</th>\n",
              "      <td>105582</td>\n",
              "    </tr>\n",
              "    <tr>\n",
              "      <th>36</th>\n",
              "      <td>116969</td>\n",
              "    </tr>\n",
              "    <tr>\n",
              "      <th>37</th>\n",
              "      <td>112635</td>\n",
              "    </tr>\n",
              "    <tr>\n",
              "      <th>38</th>\n",
              "      <td>122391</td>\n",
              "    </tr>\n",
              "    <tr>\n",
              "      <th>39</th>\n",
              "      <td>121872</td>\n",
              "    </tr>\n",
              "  </tbody>\n",
              "</table>\n",
              "</div><br><label><b>dtype:</b> int64</label>"
            ]
          },
          "metadata": {},
          "execution_count": 11
        }
      ]
    },
    {
      "cell_type": "code",
      "source": [
        "# prompt: Extract simple linear regression on x and y using stats model\n",
        "\n",
        "# Assuming 'data' DataFrame and 'x', 'y' are already defined as in the previous code\n",
        "\n",
        "# Add a constant to the independent variable\n",
        "x = sm.add_constant(x)\n",
        "\n",
        "# Fit the linear regression model\n",
        "model = sm.OLS(y, x).fit()\n",
        "\n",
        "# Print the model summary\n",
        "print(model.summary())\n"
      ],
      "metadata": {
        "colab": {
          "base_uri": "https://localhost:8080/"
        },
        "id": "RY_XGbYo7x5u",
        "outputId": "cece5db2-5db0-436f-e5d5-75f6dfa24da9"
      },
      "execution_count": null,
      "outputs": [
        {
          "output_type": "stream",
          "name": "stdout",
          "text": [
            "                            OLS Regression Results                            \n",
            "==============================================================================\n",
            "Dep. Variable:                 Salary   R-squared:                       0.956\n",
            "Model:                            OLS   Adj. R-squared:                  0.955\n",
            "Method:                 Least Squares   F-statistic:                     823.3\n",
            "Date:                Wed, 12 Mar 2025   Prob (F-statistic):           2.32e-27\n",
            "Time:                        10:39:10   Log-Likelihood:                -400.39\n",
            "No. Observations:                  40   AIC:                             804.8\n",
            "Df Residuals:                      38   BIC:                             808.2\n",
            "Df Model:                           1                                         \n",
            "Covariance Type:            nonrobust                                         \n",
            "====================================================================================\n",
            "                       coef    std err          t      P>|t|      [0.025      0.975]\n",
            "------------------------------------------------------------------------------------\n",
            "const             2.567e+04   1920.100     13.371      0.000    2.18e+04    2.96e+04\n",
            "Experience Years  9523.6505    331.910     28.693      0.000    8851.734    1.02e+04\n",
            "==============================================================================\n",
            "Omnibus:                        3.473   Durbin-Watson:                   1.104\n",
            "Prob(Omnibus):                  0.176   Jarque-Bera (JB):                1.767\n",
            "Skew:                           0.194   Prob(JB):                        0.413\n",
            "Kurtosis:                       2.046   Cond. No.                         13.0\n",
            "==============================================================================\n",
            "\n",
            "Notes:\n",
            "[1] Standard Errors assume that the covariance matrix of the errors is correctly specified.\n"
          ]
        }
      ]
    },
    {
      "cell_type": "markdown",
      "source": [
        "The regression equation is: Salary = 25 , 670 + ( 9 , 523.65 × Experience Years ) Salary=25,670+(9,523.65×Experience Years) 25,670 → This is the intercept (base salary when experience is 0). 9,523.65 → This is the coefficient for \"Experience Years,\" meaning each additional year of experience increases salary by ₹9,524 (approx).\n",
        "R-squared (0.956) means the model explains 95.6% of the variation in salary, which is very high. This suggests that experience is a strong predictor of salary.\n",
        "The p-value for Experience Years is 0.000, which means this relationship is statistically significant. In simple terms, there is a very strong and reliable connection between experience and salary.\n",
        "The F-statistic (823.3) and its tiny p-value (2.32e-27) confirm that the model as a whole is highly significant.\n",
        "This regression model strongly supports the idea that more years of experience lead to a higher salary. The model fits the data well, and the results are statistically significant.\n"
      ],
      "metadata": {
        "id": "_iajxP7drvxV"
      }
    },
    {
      "cell_type": "code",
      "source": [
        "# prompt: check for residuals are normally distributed\n",
        "\n",
        "import scipy.stats as stats\n",
        "\n",
        "# Assuming 'model' is the fitted OLS model from the previous code\n",
        "residuals = model.resid\n",
        "\n",
        "# Create a Q-Q plot\n",
        "stats.probplot(residuals, dist=\"norm\", plot=plt)\n",
        "plt.title(\"Q-Q Plot of Residuals\")\n",
        "plt.show()\n",
        "\n",
        "# Perform a Shapiro-Wilk test for normality\n",
        "shapiro_test = stats.shapiro(residuals)\n",
        "print(\"Shapiro-Wilk Test:\")\n",
        "print(f\"Statistic: {shapiro_test.statistic}\")\n",
        "print(f\"P-value: {shapiro_test.pvalue}\")\n",
        "\n",
        "# Interpret the results\n",
        "alpha = 0.05  # Significance level\n",
        "if shapiro_test.pvalue > alpha:\n",
        "    print(\"Residuals are normally distributed (fail to reject H0)\")\n",
        "else:\n",
        "    print(\"Residuals are not normally distributed (reject H0)\")\n"
      ],
      "metadata": {
        "colab": {
          "base_uri": "https://localhost:8080/",
          "height": 543
        },
        "id": "7djlt83L8Bl8",
        "outputId": "3944264b-7a70-4f5c-b46c-b6640b103696"
      },
      "execution_count": null,
      "outputs": [
        {
          "output_type": "display_data",
          "data": {
            "text/plain": [
              "<Figure size 640x480 with 1 Axes>"
            ],
            "image/png": "[encoded data removed]"
          },
          "metadata": {}
        },
        {
          "output_type": "stream",
          "name": "stdout",
          "text": [
            "Shapiro-Wilk Test:\n",
            "Statistic: 0.9610421361130027\n",
            "P-value: 0.18179536109528444\n",
            "Residuals are normally distributed (fail to reject H0)\n"
          ]
        }
      ]
    },
    {
      "cell_type": "markdown",
      "source": [
        "A Q-Q plot was created to check if the residuals follow a normal distribution.\n",
        "This test gives a statistic and a p-value to check normality.\n",
        "Null Hypothesis (H₀): Residuals are normally distributed.\n",
        "Alternative Hypothesis (H₁): Residuals are not normally distributed.\n",
        "Since p-value > 0.05, we do not reject the assumption that the residuals are normally distributed.\n",
        "This means our regression model meets the normality assumption, so our predictions are more reliable. ✅\n"
      ],
      "metadata": {
        "id": "vgzjTssksQri"
      }
    },
    {
      "cell_type": "code",
      "source": [
        "# prompt: check for residuals are normally distributed fit and plot histogram with line\n",
        "\n",
        "import matplotlib.pyplot as plt\n",
        "import numpy as np\n",
        "\n",
        "# Assuming 'residuals' is already calculated as in the previous code\n",
        "\n",
        "# Plot the histogram of residuals\n",
        "plt.hist(residuals, bins=30, density=True, alpha=0.6, color='g', label='Residuals')\n",
        "\n",
        "# Generate a normal distribution curve for comparison\n",
        "xmin, xmax = plt.xlim()\n",
        "x = np.linspace(xmin, xmax, 100)\n",
        "p = stats.norm.pdf(x, loc=residuals.mean(), scale=residuals.std())\n",
        "plt.plot(x, p, 'k', linewidth=2, label='Normal Distribution')\n",
        "\n",
        "# Add labels and title\n",
        "plt.xlabel('Residuals')\n",
        "plt.ylabel('Density')\n",
        "plt.title('Histogram of Residuals with Normal Distribution')\n",
        "plt.legend()\n",
        "plt.grid(True)\n",
        "\n",
        "# Show the plot\n",
        "plt.show()\n"
      ],
      "metadata": {
        "colab": {
          "base_uri": "https://localhost:8080/",
          "height": 472
        },
        "id": "iuDUnxZ58LNC",
        "outputId": "99d0ad9a-85af-4f64-aed8-59db5f992f5d"
      },
      "execution_count": null,
      "outputs": [
        {
          "output_type": "display_data",
          "data": {
            "text/plain": [
              "<Figure size 640x480 with 1 Axes>"
            ],
            "image/png": "[encoded data removed]"
          },
          "metadata": {}
        }
      ]
    },
    {
      "cell_type": "code",
      "source": [
        "# prompt: check for homoscedasticity\n",
        "\n",
        "# Assuming 'model' is the fitted OLS model and 'x' contains the independent variable\n",
        "\n",
        "# Get the fitted values and residuals\n",
        "fitted_values = model.fittedvalues\n",
        "residuals = model.resid\n",
        "\n",
        "# Create a scatter plot of residuals vs. fitted values\n",
        "plt.figure(figsize=(8, 6))\n",
        "plt.scatter(fitted_values, residuals)\n",
        "plt.xlabel(\"Fitted Values\")\n",
        "plt.ylabel(\"Residuals\")\n",
        "plt.title(\"Residuals vs. Fitted Values\")\n",
        "plt.axhline(y=0, color='r', linestyle='--')  # Add a horizontal line at y=0\n",
        "plt.show()\n",
        "\n",
        "\n",
        "\n"
      ],
      "metadata": {
        "colab": {
          "base_uri": "https://localhost:8080/",
          "height": 564
        },
        "id": "1YT2JSQ18Oyt",
        "outputId": "6916264e-1ef3-4a71-fec8-0d3d4caa2de5"
      },
      "execution_count": null,
      "outputs": [
        {
          "output_type": "display_data",
          "data": {
            "text/plain": [
              "<Figure size 800x600 with 1 Axes>"
            ],
            "image/png": "[encoded data removed]"
          },
          "metadata": {}
        }
      ]
    },
    {
      "cell_type": "code",
      "source": [
        "# prompt: conduct white test for testing homoscedasticity\n",
        "\n",
        "# White test for heteroskedasticity\n",
        "from statsmodels.compat import lzip\n",
        "import statsmodels.stats.diagnostic as sms\n",
        "\n",
        "white_test = sms.het_white(model.resid, model.model.exog)\n",
        "\n",
        "labels = ['Test Statistic', 'Test Statistic p-value', 'F-Statistic', 'F-Test p-value']\n",
        "print(dict(lzip(labels, white_test)))\n",
        "\n",
        "alpha = 0.05\n",
        "if white_test[1] < alpha:\n",
        "    print('Reject the null hypothesis. Heteroskedasticity is present.')\n",
        "else:\n",
        "    print('Fail to reject the null hypothesis. No heteroskedasticity.')\n"
      ],
      "metadata": {
        "colab": {
          "base_uri": "https://localhost:8080/"
        },
        "id": "8Vo80Xwy8gIZ",
        "outputId": "5306ae85-885b-4fb9-9e13-3abc79db56bd"
      },
      "execution_count": null,
      "outputs": [
        {
          "output_type": "stream",
          "name": "stdout",
          "text": [
            "{'Test Statistic': 2.4970624227281446, 'Test Statistic p-value': 0.28692592104545683, 'F-Statistic': 1.2317876359762003, 'F-Test p-value': 0.3034575662206165}\n",
            "Fail to reject the null hypothesis. No heteroskedasticity.\n"
          ]
        }
      ]
    },
    {
      "cell_type": "markdown",
      "source": [
        "Test Statistic p-value = 0.287 (greater than 0.05)\n",
        "F-Test p-value = 0.303 (greater than 0.05)\n",
        "Conclusion:\n",
        "Since both p-values are greater than 0.05, we fail to reject the null hypothesis.\n",
        "This means there is no heteroskedasticity, and the errors in our model are evenly spread.\n",
        "\n",
        "Our model meets the assumption of homoscedasticity, meaning the errors don’t show any weird patterns. This makes our regression analysis more reliable and valid."
      ],
      "metadata": {
        "id": "p-3SxQ0BskI1"
      }
    }
  ]
}